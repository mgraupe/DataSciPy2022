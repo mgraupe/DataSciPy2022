{
 "cells": [
  {
   "cell_type": "markdown",
   "metadata": {},
   "source": [
    "# T3 Wrangling spike-trains"
   ]
  },
  {
   "cell_type": "markdown",
   "metadata": {},
   "source": [
    "## Toy example of a light sensitive neuron"
   ]
  },
  {
   "cell_type": "markdown",
   "metadata": {},
   "source": [
    "Let us consider a neuron, which is alive, that is capable of sending spikes. This particular neuron will generally not send any spikes in the dark, and this neuron will send spikes if you shine green light (e.g. at wavelength 550 nm) on it. Let's also assume that we have a recording electrode near the soma (the point where this neuron sends spikes). Through this electrode, we can record when this neuron is firing over time. \n",
    "The result of this recording is a list of `0`s for when no spike was emitted and `1`s for when a spike was emitted. This array is saved in the variable `spikeTrain`.\n",
    "\n",
    "**Note** : The array `recordingTime` contains the binned time of the recording. Each bin has a duration of 10 ms intervals and the number in each bin specifies whether the neuron fired or not during the specific time period. "
   ]
  },
  {
   "cell_type": "code",
   "execution_count": 1,
   "metadata": {},
   "outputs": [],
   "source": [
    "import numpy as np\n",
    "\n",
    "recordingTime = np.array([10,20,30,40,50,60,70,80,90,100,110,120,130,140,150,160,170,180,190,200])\n",
    "spikeTrain = np.array([0,0,0,0,0,0,0,0,1,0,1,0,1,0,0,0,1,0,0,0])"
   ]
  },
  {
   "cell_type": "markdown",
   "metadata": {},
   "source": [
    "This neuron is spiking when illuminated with green light. So let's indicate the time points during which the green light in on in bold : [10,20,30,40,**50,60,70,80,90,100,110,120,130,**140,150,160,170,180,190,200]. This means that the light started at 50 ms and lasted until 130 ms. It stayed on for 80 ms. "
   ]
  },
  {
   "cell_type": "markdown",
   "metadata": {},
   "source": [
    "#### Basic questions about the spike train\n",
    "\n",
    "First, we will extract some basic information about the spike train. \n",
    "\n",
    "* How many spikes did the neuron fire in total during the recording period? \n",
    "* How long is the recording period? \n",
    "* What is the average firing rate of the neuron during the recording period? \n",
    "* At which time points do the spikes occur?"
   ]
  },
  {
   "cell_type": "code",
   "execution_count": 2,
   "metadata": {},
   "outputs": [
    {
     "name": "stdout",
     "output_type": "stream",
     "text": [
      "The total number of spikes is : 4\n",
      "The length of the recording is : 200 ms\n",
      "The average firing rate is : 20.0 spikes/s\n",
      "The spike-times are :  [ 90 110 130 170]\n",
      "The neuron fired at spikes at  90 ms\n",
      "The neuron fired at spikes at  110 ms\n",
      "The neuron fired at spikes at  130 ms\n",
      "The neuron fired at spikes at  170 ms\n"
     ]
    }
   ],
   "source": [
    "print('The total number of spikes is :',np.sum(spikeTrain))\n",
    "print('The length of the recording is :',recordingTime[-1], 'ms')\n",
    "# note that ms have to be converted in seconds for calculating the rate\n",
    "print('The average firing rate is :', np.sum(spikeTrain)*1000./recordingTime[-1] , 'spikes/s') \n",
    "\n",
    "# obtain spike-times with numpy where function\n",
    "spikeTimes = recordingTime[np.where(spikeTrain==1)[0]]\n",
    "\n",
    "print('The spike-times are : ',spikeTimes)\n",
    "# alternative solution with for loop\n",
    "for n in np.arange(len(spikeTrain)):\n",
    "    if spikeTrain[n]==1:\n",
    "        print('The neuron fired at spikes at ',recordingTime[n],'ms')\n",
    "\n"
   ]
  },
  {
   "cell_type": "markdown",
   "metadata": {},
   "source": [
    "#### Response latency\n",
    "\n",
    "The time it takes the neuron to be reponsive, i.e., for a neuron to spike in response to a stimulus - in our case green light - is known as the **response latency**. \n",
    "\n",
    "* Calculate the latency to first spike after stimulus onset for the given spike-train. "
   ]
  },
  {
   "cell_type": "code",
   "execution_count": 3,
   "metadata": {},
   "outputs": [
    {
     "name": "stdout",
     "output_type": "stream",
     "text": [
      "the response latency is : 40 ms\n"
     ]
    }
   ],
   "source": [
    "# we look at the first spike during the stimulus presentation\n",
    "# we substract the stimulus onset - at 50 ms - to get the response latency\n",
    "print('the response latency is :',spikeTimes[0]-50,'ms')"
   ]
  },
  {
   "cell_type": "markdown",
   "metadata": {},
   "source": [
    "<div class=\"alert alert-info\">\n",
    "<em>Advanced assignment :</em>\n",
    "    \n",
    "Calculate the inter-spike-intervals (ISIs) for the recording. Remember that the ISIs are the intervals between all spikes. Once you have the intervals, calculate the coefficient (CV) of variation (see lecture L02 for details). The CV quantifies the irregularity of the spike train. \n",
    "\n",
    "One can also calculate the firing rate of the neuron based on the ISIs. Try to think of a way to get from the ISIs to the firing rate. \n",
    "</div>"
   ]
  },
  {
   "cell_type": "code",
   "execution_count": 4,
   "metadata": {},
   "outputs": [
    {
     "name": "stdout",
     "output_type": "stream",
     "text": [
      "The CV of the spike train is :  0.3535533905932737\n",
      "The firing rate based on the ISIs is  37.5  spk/s\n"
     ]
    }
   ],
   "source": [
    "isis = np.diff(spikeTimes)\n",
    "\n",
    "CV = np.std(isis)/np.mean(isis)\n",
    "\n",
    "print('The CV of the spike train is : ',CV)\n",
    "\n",
    "firingRateISI = 1000./np.mean(isis)\n",
    "\n",
    "print('The firing rate based on the ISIs is ', firingRateISI, ' spk/s')"
   ]
  },
  {
   "cell_type": "markdown",
   "metadata": {},
   "source": [
    "#### Raster plot\n",
    "\n",
    "Let't make a plot and illustrate the spike-train. The plot the spiking activity we need to know the time of every spike in the array. People sometimes called these the *spike timestamps*, or *spiketimes*. To plot the spikes, we will use the common visualization method of a **spike raster plot**. In such a plot, each spike is represented as a vertical line, at the time when it occurred, with time on the x-axis.\n",
    "\n",
    "* Plot the raster plot of the spiketrain using the `matplotlib.pyplot` `eventplot()` function. This function takes the x-locations as input argument. \n",
    "* Mark the stimulus period with as green shaded region in the plot by making use of the `matplotlib.pyplot` `axvspan()` function (input arguments are the x start and stop values). "
   ]
  },
  {
   "cell_type": "code",
   "execution_count": 5,
   "metadata": {},
   "outputs": [
    {
     "data": {
      "text/plain": [
       "(0, 200)"
      ]
     },
     "execution_count": 5,
     "metadata": {},
     "output_type": "execute_result"
    },
    {
     "data": {
      "image/png": "[encoded data removed]",
      "text/plain": [
       "<Figure size 432x288 with 1 Axes>"
      ]
     },
     "metadata": {
      "needs_background": "light"
     },
     "output_type": "display_data"
    }
   ],
   "source": [
    "import matplotlib.pyplot as plt\n",
    "%matplotlib inline\n",
    "\n",
    "plt.eventplot(spikeTimes,color='red')\n",
    "plt.axvspan(50,130,color='green',alpha=0.2)\n",
    "plt.xlim(0,200)"
   ]
  },
  {
   "cell_type": "markdown",
   "metadata": {},
   "source": [
    "#### Multiple recordings of the same neuron\n",
    "\n",
    "What if there is some mechanism inside the neuron that causes it to spike highly unreliably? What if we are recording the signals of this neuron in a noisy environment? To address this, we would need to stimulate and record the neuron multiple times (ideally many times). \n",
    "\n",
    "Below are the spike-trains of the neuron from ten identical recordings, i.e., the green light simulus was on always during the [50,130] ms time window."
   ]
  },
  {
   "cell_type": "code",
   "execution_count": 6,
   "metadata": {},
   "outputs": [],
   "source": [
    "tenSpikeTrains = np.array([[0,0,0,0,0,0,0,0,0,1,0,1,0,1,0,0,0,1,0,0,0],\\\n",
    "                  [0,0,0,0,0,0,0,0,1,1,0,0,0,1,0,0,0,1,0,0,0],\\\n",
    "                  [0,1,0,0,0,0,0,0,0,0,1,0,0,1,0,0,0,0,0,1,0],\\\n",
    "                  [0,0,0,0,0,0,0,0,1,1,0,1,0,0,0,0,0,0,1,0,0],\\\n",
    "                  [0,0,0,0,0,0,0,0,0,1,0,0,1,0,0,0,0,0,0,0,0],\\\n",
    "                  [0,0,0,0,0,0,0,0,0,0,1,1,0,0,0,1,0,0,0,1,0],\\\n",
    "                  [0,0,0,0,0,0,0,0,1,1,1,0,0,1,1,0,0,1,1,0,0],\\\n",
    "                  [1,0,0,0,0,0,0,0,0,0,1,1,0,0,0,0,1,0,0,0,0],\\\n",
    "                  [0,0,0,0,0,0,0,0,1,1,0,0,1,1,0,0,1,1,0,0,0],\\\n",
    "                  [0,0,0,0,0,0,1,0,0,1,0,1,0,0,0,0,0,1,1,0,0]])"
   ]
  },
  {
   "cell_type": "markdown",
   "metadata": {},
   "source": [
    "<div class=\"alert alert-info\">\n",
    "<em>Advanced assignment :</em>\n",
    "    \n",
    "Calculate and concatenate all inter-spike-intervals (ISIs) for all recordings. Again, calculate the CV and firing rate based on all ISIs. \n",
    "\n",
    "Compare the firing rate based on the ISIs with the firing when considering the total length of all recordings and the number of spikes measured. What could explain the difference between the two?  \n",
    "\n",
    "</div>"
   ]
  },
  {
   "cell_type": "code",
   "execution_count": 7,
   "metadata": {},
   "outputs": [
    {
     "name": "stdout",
     "output_type": "stream",
     "text": [
      "[20, 20, 40, 10, 40, 40, 90, 30, 60, 10, 20, 70, 30, 10, 40, 40, 10, 10, 30, 10, 30, 10, 100, 10, 50, 10, 30, 10, 30, 10, 30, 20, 60, 10]\n",
      "The CV based on all recordings is  0.7519697998468136\n",
      "The firing rate based on all recordings calculated using the ISIs is 32.69230769230769  spk/s.\n",
      "The firing rate base on all recordings calculatd using the total number of spikes and total duration is  22.0  spk/s\n"
     ]
    }
   ],
   "source": [
    "allISIs = [] # create an empty list\n",
    "for i in range(len(tenSpikeTrains)):\n",
    "    spikeTimes = recordingTime[np.where(tenSpikeTrains[i]==1)[0]]\n",
    "    isi = np.diff(spikeTimes)\n",
    "    allISIs.extend(isi)\n",
    "print(allISIs)\n",
    "\n",
    "globalCV = np.std(allISIs)/np.mean(allISIs)\n",
    "\n",
    "print('The CV based on all recordings is ', globalCV)\n",
    "\n",
    "globalFiringRateISI = 1000./np.mean(allISIs)\n",
    "\n",
    "print('The firing rate based on all recordings calculated using the ISIs is', globalFiringRateISI, ' spk/s.')\n",
    "\n",
    "totalNumberOfSpikes = np.sum(tenSpikeTrains)\n",
    "totalDuration = recordingTime[-1]*len(tenSpikeTrains)\n",
    "\n",
    "firingRate = totalNumberOfSpikes*1000./totalDuration\n",
    "\n",
    "print('The firing rate base on all recordings calculatd using the total number of spikes and total duration is ', firingRate, ' spk/s')"
   ]
  },
  {
   "cell_type": "markdown",
   "metadata": {},
   "source": [
    "The ISI based firing rate is higher since the period before the stimulus [0,50] ms is not taken into account. It's not taken into account since no spikes occur in most of the recordings. The ISI based calculation emphasizes the higher firing rate during the stimulus presentation. While the total duration based firing rate accounts for the length of the recording. "
   ]
  },
  {
   "cell_type": "markdown",
   "metadata": {},
   "source": [
    "#### Visualize the recordings in a raster plot\n",
    "\n",
    "In order to make a raster plot of the data from **all** the trials, let's use a similar method we used for the data from a single trial, except that we cycle through each array in the array. \n",
    "\n",
    "* Plot a raster-plot of all the data using a `for` loop and the `eventplot()` visualization function. Use the input argument `lineoffsets=[value]` to vertically displace individual spike-trains. \n",
    "* Indicate the stimulus period in the plot. "
   ]
  },
  {
   "cell_type": "code",
   "execution_count": 8,
   "metadata": {},
   "outputs": [
    {
     "data": {
      "text/plain": [
       "(0, 200)"
      ]
     },
     "execution_count": 8,
     "metadata": {},
     "output_type": "execute_result"
    },
    {
     "data": {
      "image/png": "[encoded data removed]",
      "text/plain": [
       "<Figure size 432x288 with 1 Axes>"
      ]
     },
     "metadata": {
      "needs_background": "light"
     },
     "output_type": "display_data"
    }
   ],
   "source": [
    "timesOfSpikesForTenRecordings = []\n",
    "for i in range(len(tenSpikeTrains)):\n",
    "    spikeTimes = recordingTime[np.where(tenSpikeTrains[i]==1)[0]]\n",
    "    timesOfSpikesForTenRecordings.append(spikeTimes)\n",
    "plt.eventplot(timesOfSpikesForTenRecordings,linelengths=0.8,color='red')\n",
    "plt.axvspan(50,130,color='green',alpha=0.2)\n",
    "plt.xlim(0,200)"
   ]
  },
  {
   "cell_type": "markdown",
   "metadata": {},
   "source": [
    "## The end"
   ]
  }
 ],
 "metadata": {
  "kernelspec": {
   "display_name": "Python 3",
   "language": "python",
   "name": "python3"
  },
  "language_info": {
   "codemirror_mode": {
    "name": "ipython",
    "version": 3
   },
   "file_extension": ".py",
   "mimetype": "text/x-python",
   "name": "python",
   "nbconvert_exporter": "python",
   "pygments_lexer": "ipython3",
   "version": "3.6.7"
  }
 },
 "nbformat": 4,
 "nbformat_minor": 1
}
