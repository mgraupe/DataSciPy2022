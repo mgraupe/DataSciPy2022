{
 "cells": [
  {
   "cell_type": "markdown",
   "metadata": {},
   "source": [
    "# E10 Dimensionality reduction"
   ]
  },
  {
   "cell_type": "markdown",
   "metadata": {},
   "source": [
    "## Principal component analysis"
   ]
  },
  {
   "cell_type": "markdown",
   "metadata": {},
   "source": [
    "In this week's exersice, you will investigate a dataset consisting of *five* variables using Principal Component Analysis (PCA). In particular, you will search for a smaller set of latent variables which can account for the dynamics in the original four variables. \n",
    "\n",
    "The five variables show some dynamics as function of time. Time varies in the interval [0,10] s. \n",
    "\n",
    "The dataset is stored in the binary numpy file `time-seriesPCAnew.npy` which can be loaded with the numpy `np.load()` function. The data is stored in a two-dimensional numpy array, where time is in the first column, x1 (the first variable) is in the second column, x2 in the third, x3 in the fourth, x4 in the fifth, and x5 in the sixth column. Remember that columns can be accessed with `X[:,n]`, where X is the variable name and n is the index of the column (starting with 0). \n"
   ]
  },
  {
   "cell_type": "markdown",
   "metadata": {},
   "source": [
    "Let's start by importing the necessary libraries. "
   ]
  },
  {
   "cell_type": "code",
   "execution_count": 1,
   "metadata": {},
   "outputs": [],
   "source": [
    "import numpy as np\n",
    "import matplotlib.pyplot as plt\n",
    "from sklearn.decomposition import PCA\n",
    "\n",
    "%matplotlib notebook"
   ]
  },
  {
   "cell_type": "markdown",
   "metadata": {},
   "source": [
    "1. Perform Principal Component Analysis on the 5-dimensional dataset. Use the scikit learn module, specifically the `PCA` function in `sklearn.decomposition`. Set the number of principal compoents to calculate to five (i.e., extract as many principal components as variables in your original dataset). "
   ]
  },
  {
   "cell_type": "code",
   "execution_count": 1,
   "metadata": {},
   "outputs": [],
   "source": [
    "# your code goes here"
   ]
  },
  {
   "cell_type": "markdown",
   "metadata": {},
   "source": [
    "2. Based on the explained variance, how many principal components should you keep in order to account for a large fraction (more than 95 %) of the variance in your dataset? Remember that explained variance per principal compnent can be accessed with `pca.explained_variance_`. "
   ]
  },
  {
   "cell_type": "code",
   "execution_count": 2,
   "metadata": {},
   "outputs": [],
   "source": [
    "# your code goes here "
   ]
  },
  {
   "cell_type": "markdown",
   "metadata": {},
   "source": [
    "3. Visualize the principal components chosen in exersice 2 (that is, the principal components with account for more than 95 % of the variance) as a *function of time*. Note that you first need to transform the orginal variables into the new principal component space, which can be done with `pca.transform()`. "
   ]
  },
  {
   "cell_type": "code",
   "execution_count": 3,
   "metadata": {},
   "outputs": [],
   "source": [
    "# your code goes here "
   ]
  },
  {
   "cell_type": "markdown",
   "metadata": {},
   "source": [
    "## The end"
   ]
  }
 ],
 "metadata": {
  "kernelspec": {
   "display_name": "Python 3",
   "language": "python",
   "name": "python3"
  },
  "language_info": {
   "codemirror_mode": {
    "name": "ipython",
    "version": 3
   },
   "file_extension": ".py",
   "mimetype": "text/x-python",
   "name": "python",
   "nbconvert_exporter": "python",
   "pygments_lexer": "ipython3",
   "version": "3.6.7"
  }
 },
 "nbformat": 4,
 "nbformat_minor": 1
}
