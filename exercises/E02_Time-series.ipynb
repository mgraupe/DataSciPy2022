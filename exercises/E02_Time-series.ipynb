{
 "cells": [
  {
   "cell_type": "markdown",
   "metadata": {},
   "source": [
    "# E02 Time series"
   ]
  },
  {
   "cell_type": "markdown",
   "metadata": {},
   "source": [
    "1. Download the numpy binary file `time-series4.npy` located in the `excercises` folder of the [github repository](https://github.com/mgraupe/DataSciPy2021/tree/master/exercises) or the moodle. Load the file using the numpy `load` function and save the imported data in variable named `data4` (note that the `time-series4.npy` file needs to be located in the same folder as the jupyter-notebook)."
   ]
  },
  {
   "cell_type": "code",
   "execution_count": 1,
   "metadata": {},
   "outputs": [],
   "source": [
    "# your code goes here"
   ]
  },
  {
   "cell_type": "markdown",
   "metadata": {},
   "source": [
    "2. In the loaded array, the first row contains the time-points (in seconds) at which the transmembrane potential (in volts, in the 2nd row) were recorded. What is the time interval between each individual potential recording ? What is the frequency - the acquistion frequency, or the sampling rate - of the recording? <br>\n",
    "**Hint** : this can be calculated directly from the interval between individual time-points."
   ]
  },
  {
   "cell_type": "code",
   "execution_count": 2,
   "metadata": {},
   "outputs": [],
   "source": [
    "# your codes goes here"
   ]
  },
  {
   "cell_type": "markdown",
   "metadata": {},
   "source": [
    "3. Calculate the mean of the first 1000 data-points, and the mean of all data-points betweeen the 24,000th and 26,000th element. <br>**Hint:** You can use numpy slicing to access subsets of the array. "
   ]
  },
  {
   "cell_type": "code",
   "execution_count": 2,
   "metadata": {},
   "outputs": [],
   "source": [
    "# your code goes here"
   ]
  }
 ],
 "metadata": {
  "kernelspec": {
   "display_name": "Python 3",
   "language": "python",
   "name": "python3"
  },
  "language_info": {
   "codemirror_mode": {
    "name": "ipython",
    "version": 3
   },
   "file_extension": ".py",
   "mimetype": "text/x-python",
   "name": "python",
   "nbconvert_exporter": "python",
   "pygments_lexer": "ipython3",
   "version": "3.6.7"
  }
 },
 "nbformat": 4,
 "nbformat_minor": 2
}
