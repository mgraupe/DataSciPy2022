{
 "cells": [
  {
   "cell_type": "markdown",
   "metadata": {},
   "source": [
    "# E07 Spiking neural networks\n",
    "\n",
    "In this week's homework, we are going to use the code from the tutorial and look at the effect of changes in its parameters in a more systematic way."
   ]
  },
  {
   "cell_type": "code",
   "execution_count": 5,
   "metadata": {
    "scrolled": true
   },
   "outputs": [],
   "source": [
    "# If you do not have Brian installed, uncomment the following line and run this notebook cell\n",
    "# %pip install brian2"
   ]
  },
  {
   "cell_type": "code",
   "execution_count": 1,
   "metadata": {},
   "outputs": [],
   "source": [
    "# Import Brian and switch off its \"code generation\" facility\n",
    "from brian2 import *\n",
    "prefs.codegen.target = 'numpy'\n",
    "import numpy as np\n",
    "import matplotlib.pyplot as plt"
   ]
  },
  {
   "cell_type": "code",
   "execution_count": 2,
   "metadata": {},
   "outputs": [],
   "source": [
    "# This code is slightly adapted from the tutorial (lower number of neurons and shorter run time,\n",
    "# and it additionally returns spike counts), see notes in the tutorial for more explanation about the code.\n",
    "\n",
    "def run_sim(g, nu_ext_relative):\n",
    "    start_scope()\n",
    "    N_E = 1000\n",
    "    # network parameters\n",
    "    gamma = 0.25\n",
    "    N_I = int(gamma * N_E)\n",
    "    N = N_E + N_I\n",
    "    epsilon = 0.1\n",
    "    C_E = C_ext = int(epsilon * N_E)\n",
    "    C_I = int(epsilon * N_I)\n",
    "\n",
    "    # neuron parameters\n",
    "    tau = 20 * ms; theta = 20 * mV; V_r = 10 * mV; tau_rp = 2 * ms\n",
    "\n",
    "    # synapse parameters\n",
    "    J = 0.1 * mV; D = 1.5 * ms\n",
    "\n",
    "    # external stimulus\n",
    "    nu_thr = theta / (J * C_E * tau)\n",
    "\n",
    "    neurons = NeuronGroup(N,\"dv/dt = -v/tau : volt (unless refractory)\",\n",
    "                          threshold=\"v > theta\", reset=\"v = V_r\",\n",
    "                          refractory=tau_rp, method=\"exact\")\n",
    "\n",
    "    exc_neurons = neurons[:N_E]\n",
    "    inh_neurons = neurons[N_E:]\n",
    "    exc_synapses = Synapses(exc_neurons, neurons, on_pre=\"v += J\", delay=D)\n",
    "    exc_synapses.connect(i='k for k in sample(N_E, size=C_E)')\n",
    "    inhib_synapses = Synapses(inh_neurons, neurons, on_pre=\"v += -g*J\", delay=D)\n",
    "    inhib_synapses.connect(i='k for k in sample(N_I, size=C_I)')\n",
    "\n",
    "    nu_ext = nu_ext_relative * nu_thr\n",
    "    external_poisson_input = PoissonInput(target=neurons, target_var=\"v\",\n",
    "                                          N=C_ext, rate=nu_ext, weight=J)\n",
    "\n",
    "    rate_monitor = PopulationRateMonitor(neurons)\n",
    "    exc_monitor = SpikeMonitor(exc_neurons)\n",
    "    inh_monitor = SpikeMonitor(inh_neurons[:50])  # record 50 inhibitory neurons\n",
    "    state_monitor = StateMonitor(exc_neurons, 'v', record=0)  # record membrane potential of one neuron\n",
    "    run(0.5*second)\n",
    "    \n",
    "    return {'rate_t': rate_monitor.t, 'rate': rate_monitor.rate,\n",
    "            'exc_spikes_t': exc_monitor.t, 'exc_spikes_i': exc_monitor.i, 'exc_spikes_count': exc_monitor.count, \n",
    "            'inh_spikes_t': inh_monitor.t, 'inh_spikes_i': inh_monitor.i, 'inh_spikes_count': inh_monitor.count,\n",
    "            'state_t': state_monitor.t, 'state_v': state_monitor.v[0]}"
   ]
  },
  {
   "cell_type": "markdown",
   "metadata": {},
   "source": [
    "In our model, each of the neurons in the network receives input via a `PoissonInput`. This models the summed effect of many neurons providing excitatory input to the cell, each spiking randomly according to a Poisson process. This is more efficient than actually simulating each of the external input cells and their synapses individually. \n",
    "The `nu_ext_relative` parameter that we provide to the `run_sim` function determines the *firing rate* of these external input neurons, i.e. higher values means that each neuron in the network gets more external input.\n",
    "\n",
    "## Question: how does the network activity depend on the input rate and the strength of the inhibition?\n",
    "\n",
    "To answer this question, we will first simulate the network several times, with different values for the external input rate `nu_ext_relative` and for the strength of the inhibitory synapses `g`. For each parameter combination below, store the *mean firing* rate of the excitatory neurons in the `firing_rate` matrix, and the *standard deviation of the firing rates* across excitatory neurons in the `firing_rate_stddev` matrix.\n",
    "\n",
    "**Hints**:\n",
    "  * The `results` dictionary returned by `run_sim`, contains an entry `exc_spikes_count` with an array containing the total number of spikes for each neuron.\n",
    "  * Each simulation runs for 0.5s"
   ]
  },
  {
   "cell_type": "code",
   "execution_count": 4,
   "metadata": {
    "scrolled": true
   },
   "outputs": [
    {
     "name": "stdout",
     "output_type": "stream",
     "text": [
      "Running\n"
     ]
    },
    {
     "ename": "TypeError",
     "evalue": "i argument must be int or array",
     "output_type": "error",
     "traceback": [
      "\u001b[0;31m---------------------------------------------------------------------------\u001b[0m",
      "\u001b[0;31mTypeError\u001b[0m                                 Traceback (most recent call last)",
      "\u001b[0;32m<ipython-input-4-91afa3a043ee>\u001b[0m in \u001b[0;36m<module>\u001b[0;34m\u001b[0m\n\u001b[1;32m     10\u001b[0m \u001b[0;32mfor\u001b[0m \u001b[0mnu_ext_index\u001b[0m\u001b[0;34m,\u001b[0m \u001b[0mnu_ext_value\u001b[0m \u001b[0;32min\u001b[0m \u001b[0menumerate\u001b[0m\u001b[0;34m(\u001b[0m\u001b[0mnu_ext_values\u001b[0m\u001b[0;34m)\u001b[0m\u001b[0;34m:\u001b[0m\u001b[0;34m\u001b[0m\u001b[0;34m\u001b[0m\u001b[0m\n\u001b[1;32m     11\u001b[0m     \u001b[0;32mfor\u001b[0m \u001b[0mg_index\u001b[0m\u001b[0;34m,\u001b[0m \u001b[0mg_value\u001b[0m \u001b[0;32min\u001b[0m \u001b[0menumerate\u001b[0m\u001b[0;34m(\u001b[0m\u001b[0mg_values\u001b[0m\u001b[0;34m)\u001b[0m\u001b[0;34m:\u001b[0m\u001b[0;34m\u001b[0m\u001b[0;34m\u001b[0m\u001b[0m\n\u001b[0;32m---> 12\u001b[0;31m         \u001b[0mresults\u001b[0m \u001b[0;34m=\u001b[0m \u001b[0mrun_sim\u001b[0m\u001b[0;34m(\u001b[0m\u001b[0mg_value\u001b[0m\u001b[0;34m,\u001b[0m \u001b[0mnu_ext_value\u001b[0m\u001b[0;34m)\u001b[0m\u001b[0;34m\u001b[0m\u001b[0;34m\u001b[0m\u001b[0m\n\u001b[0m\u001b[1;32m     13\u001b[0m         \u001b[0;31m# Store mean firing rate:\u001b[0m\u001b[0;34m\u001b[0m\u001b[0;34m\u001b[0m\u001b[0;34m\u001b[0m\u001b[0m\n\u001b[1;32m     14\u001b[0m         \u001b[0mfiring_rate\u001b[0m\u001b[0;34m[\u001b[0m\u001b[0mnu_ext_index\u001b[0m\u001b[0;34m,\u001b[0m \u001b[0mg_index\u001b[0m\u001b[0;34m]\u001b[0m \u001b[0;34m=\u001b[0m \u001b[0mnp\u001b[0m\u001b[0;34m.\u001b[0m\u001b[0mmean\u001b[0m\u001b[0;34m(\u001b[0m\u001b[0mresults\u001b[0m\u001b[0;34m[\u001b[0m\u001b[0;34m'exc_spikes_count'\u001b[0m\u001b[0;34m]\u001b[0m\u001b[0;34m/\u001b[0m\u001b[0;36m0.5\u001b[0m\u001b[0;34m)\u001b[0m\u001b[0;34m\u001b[0m\u001b[0;34m\u001b[0m\u001b[0m\n",
      "\u001b[0;32m<ipython-input-2-92814bb67d57>\u001b[0m in \u001b[0;36mrun_sim\u001b[0;34m(g, nu_ext_relative)\u001b[0m\n\u001b[1;32m     29\u001b[0m     \u001b[0minh_neurons\u001b[0m \u001b[0;34m=\u001b[0m \u001b[0mneurons\u001b[0m\u001b[0;34m[\u001b[0m\u001b[0mN_E\u001b[0m\u001b[0;34m:\u001b[0m\u001b[0;34m]\u001b[0m\u001b[0;34m\u001b[0m\u001b[0;34m\u001b[0m\u001b[0m\n\u001b[1;32m     30\u001b[0m     \u001b[0mexc_synapses\u001b[0m \u001b[0;34m=\u001b[0m \u001b[0mSynapses\u001b[0m\u001b[0;34m(\u001b[0m\u001b[0mexc_neurons\u001b[0m\u001b[0;34m,\u001b[0m \u001b[0mneurons\u001b[0m\u001b[0;34m,\u001b[0m \u001b[0mon_pre\u001b[0m\u001b[0;34m=\u001b[0m\u001b[0;34m\"v += J\"\u001b[0m\u001b[0;34m,\u001b[0m \u001b[0mdelay\u001b[0m\u001b[0;34m=\u001b[0m\u001b[0mD\u001b[0m\u001b[0;34m)\u001b[0m\u001b[0;34m\u001b[0m\u001b[0;34m\u001b[0m\u001b[0m\n\u001b[0;32m---> 31\u001b[0;31m     \u001b[0mexc_synapses\u001b[0m\u001b[0;34m.\u001b[0m\u001b[0mconnect\u001b[0m\u001b[0;34m(\u001b[0m\u001b[0mi\u001b[0m\u001b[0;34m=\u001b[0m\u001b[0;34m'k for k in sample(N_E, size=C_E)'\u001b[0m\u001b[0;34m)\u001b[0m\u001b[0;34m\u001b[0m\u001b[0;34m\u001b[0m\u001b[0m\n\u001b[0m\u001b[1;32m     32\u001b[0m     \u001b[0minhib_synapses\u001b[0m \u001b[0;34m=\u001b[0m \u001b[0mSynapses\u001b[0m\u001b[0;34m(\u001b[0m\u001b[0minh_neurons\u001b[0m\u001b[0;34m,\u001b[0m \u001b[0mneurons\u001b[0m\u001b[0;34m,\u001b[0m \u001b[0mon_pre\u001b[0m\u001b[0;34m=\u001b[0m\u001b[0;34m\"v += -g*J\"\u001b[0m\u001b[0;34m,\u001b[0m \u001b[0mdelay\u001b[0m\u001b[0;34m=\u001b[0m\u001b[0mD\u001b[0m\u001b[0;34m)\u001b[0m\u001b[0;34m\u001b[0m\u001b[0;34m\u001b[0m\u001b[0m\n\u001b[1;32m     33\u001b[0m     \u001b[0minhib_synapses\u001b[0m\u001b[0;34m.\u001b[0m\u001b[0mconnect\u001b[0m\u001b[0;34m(\u001b[0m\u001b[0mi\u001b[0m\u001b[0;34m=\u001b[0m\u001b[0;34m'k for k in sample(N_I, size=C_I)'\u001b[0m\u001b[0;34m)\u001b[0m\u001b[0;34m\u001b[0m\u001b[0;34m\u001b[0m\u001b[0m\n",
      "\u001b[0;32m~/.virtualenvs/locorungs/lib/python3.6/site-packages/brian2/core/base.py\u001b[0m in \u001b[0;36mdevice_override_decorated_function\u001b[0;34m(*args, **kwds)\u001b[0m\n\u001b[1;32m    274\u001b[0m                 \u001b[0;32mreturn\u001b[0m \u001b[0mgetattr\u001b[0m\u001b[0;34m(\u001b[0m\u001b[0mcurdev\u001b[0m\u001b[0;34m,\u001b[0m \u001b[0mname\u001b[0m\u001b[0;34m)\u001b[0m\u001b[0;34m(\u001b[0m\u001b[0;34m*\u001b[0m\u001b[0margs\u001b[0m\u001b[0;34m,\u001b[0m \u001b[0;34m**\u001b[0m\u001b[0mkwds\u001b[0m\u001b[0;34m)\u001b[0m\u001b[0;34m\u001b[0m\u001b[0;34m\u001b[0m\u001b[0m\n\u001b[1;32m    275\u001b[0m             \u001b[0;32melse\u001b[0m\u001b[0;34m:\u001b[0m\u001b[0;34m\u001b[0m\u001b[0;34m\u001b[0m\u001b[0m\n\u001b[0;32m--> 276\u001b[0;31m                 \u001b[0;32mreturn\u001b[0m \u001b[0mfunc\u001b[0m\u001b[0;34m(\u001b[0m\u001b[0;34m*\u001b[0m\u001b[0margs\u001b[0m\u001b[0;34m,\u001b[0m \u001b[0;34m**\u001b[0m\u001b[0mkwds\u001b[0m\u001b[0;34m)\u001b[0m\u001b[0;34m\u001b[0m\u001b[0;34m\u001b[0m\u001b[0m\n\u001b[0m\u001b[1;32m    277\u001b[0m \u001b[0;34m\u001b[0m\u001b[0m\n\u001b[1;32m    278\u001b[0m         \u001b[0mdevice_override_decorated_function\u001b[0m\u001b[0;34m.\u001b[0m\u001b[0m__doc__\u001b[0m \u001b[0;34m=\u001b[0m \u001b[0mfunc\u001b[0m\u001b[0;34m.\u001b[0m\u001b[0m__doc__\u001b[0m\u001b[0;34m\u001b[0m\u001b[0;34m\u001b[0m\u001b[0m\n",
      "\u001b[0;32m~/.virtualenvs/locorungs/lib/python3.6/site-packages/brian2/synapses/synapses.py\u001b[0m in \u001b[0;36mconnect\u001b[0;34m(self, condition, i, j, p, n, skip_if_invalid, namespace, level)\u001b[0m\n\u001b[1;32m   1294\u001b[0m                                    hasattr(i, '_indices')) or\n\u001b[1;32m   1295\u001b[0m                               isinstance(i, str)):\n\u001b[0;32m-> 1296\u001b[0;31m             \u001b[0;32mraise\u001b[0m \u001b[0mTypeError\u001b[0m\u001b[0;34m(\u001b[0m\u001b[0;34m\"i argument must be int or array\"\u001b[0m\u001b[0;34m)\u001b[0m\u001b[0;34m\u001b[0m\u001b[0;34m\u001b[0m\u001b[0m\n\u001b[0m\u001b[1;32m   1297\u001b[0m         if j is not None and not (isinstance(j, (numbers.Integral,\n\u001b[1;32m   1298\u001b[0m                                                 \u001b[0mnp\u001b[0m\u001b[0;34m.\u001b[0m\u001b[0mndarray\u001b[0m\u001b[0;34m,\u001b[0m\u001b[0;34m\u001b[0m\u001b[0;34m\u001b[0m\u001b[0m\n",
      "\u001b[0;31mTypeError\u001b[0m: i argument must be int or array"
     ]
    }
   ],
   "source": [
    "# Parameters that we are varying\n",
    "g_values = [0, 2, 4]\n",
    "nu_ext_values = np.linspace(0, 5, 7)  # 7 values equally spaced between 0 and 5\n",
    "\n",
    "# Empty matrices of the appropriate size\n",
    "firing_rate = np.empty((len(nu_ext_values), len(g_values)))\n",
    "firing_rate_stddev = np.empty((len(nu_ext_values), len(g_values)))\n",
    "\n",
    "print('Running')\n",
    "for nu_ext_index, nu_ext_value in enumerate(nu_ext_values):\n",
    "    for g_index, g_value in enumerate(g_values):\n",
    "        results = run_sim(g_value, nu_ext_value)\n",
    "        # Store mean firing rate: \n",
    "        firing_rate[nu_ext_index, g_index] = np.mean(results['exc_spikes_count']/0.5)\n",
    "        # Store standard deviation of firing rates\n",
    "        firing_rate_stddev[nu_ext_index, g_index] = np.std(results['exc_spikes_count']/0.5)\n",
    "        print('.', end='')  # Print a dot to show progress\n",
    "print('\\nFinished')"
   ]
  },
  {
   "cell_type": "markdown",
   "metadata": {},
   "source": [
    "We will now plot the mean firing rate and its standard deviation over neurons as a function of the external input rate, separately for the different strengths of inhibition.\n",
    "\n",
    "**Hints**:\n",
    "  * Use `plt.errorbar` to plot lines (for the mean firing rate) with error bars (for the standard deviation). The syntax is `plt.errorbar(x_values, y_values, error_values)`\n",
    "  * If you add `label=f'g = {g_value}'` to the `plt.errorbar` call, the legend shows the strength of the inhibition in the label\n",
    "  * Note that the error bars will most likely be very small and therefore almost invisible. For making sure your plotting code is correct, you can multiply the standard deviations by 10 for the plot – but make sure to remove this multiplication in the final version! "
   ]
  },
  {
   "cell_type": "code",
   "execution_count": 5,
   "metadata": {},
   "outputs": [
    {
     "data": {
      "image/png": "[encoded data removed]",
      "text/plain": [
       "<Figure size 432x288 with 1 Axes>"
      ]
     },
     "metadata": {
      "needs_background": "light"
     },
     "output_type": "display_data"
    }
   ],
   "source": [
    "for g_index, g_value in enumerate(g_values):\n",
    "    # TODO: Use plt.errorbar to plot the firing rate for the current value of g over the nu_ext_values, and add\n",
    "    # error bars for the standard deviation of the firing rate across cells\n",
    "    plt.errorbar(nu_ext_values, firing_rate[:, g_index], firing_rate_stddev[:, g_index], label=f'g = {g_value}')\n",
    "    plt.legend()\n",
    "    plt.ylabel('mean firing rate (spikes/second)')\n",
    "    plt.xlabel(r'$\\nu_\\mathrm{ext}$ (input strength)');\n",
    "    #          ^ The \"r\" is necessary so that Python interprets the string as a \"raw string\"\n",
    "    #            Otherwise, e.g. \\nu would be understood as \\n (line break) + u, instead of\n",
    "    #            LaTeX code for the greek character ν"
   ]
  },
  {
   "cell_type": "markdown",
   "metadata": {},
   "source": [
    "## Question: How does the network activity change when connections are \"truly random\" (i.e.  each neuron can have a different number of inputs)?\n",
    "\n",
    "As we briefly discussed in the tutorial, the above model uses random connections for each neuron, but each neuron receives the *same number of connections*. Make a copy of the `run_sim` function from above and rename it e.g. to `run_sim_random_input_number`. Then, change the two lines that connect the synapses to:\n",
    "```\n",
    "exc_synapses.connect(p=epsilon)\n",
    "```\n",
    "and\n",
    "```\n",
    "inh_synapses.connect(p=epsilon)\n",
    "```\n",
    "(This means, instead of having a fixed number of random connections, decide randomly for each possible pair of connections whether it should be made)\n",
    "\n",
    "Now, use the parameter exploration and plotting code from above again, but this time call your new function `run_sim_random_input_number` – how do the results change? "
   ]
  },
  {
   "cell_type": "code",
   "execution_count": 6,
   "metadata": {},
   "outputs": [],
   "source": [
    "def run_sim_random_input_number(g, nu_ext_relative):\n",
    "    N_E = 1000\n",
    "    start_scope()\n",
    "    # network parameters\n",
    "    gamma = 0.25\n",
    "    N_I = int(gamma * N_E)\n",
    "    N = N_E + N_I\n",
    "    epsilon = 0.1\n",
    "    C_E = C_ext = int(epsilon * N_E)\n",
    "    C_I = int(epsilon * N_I)\n",
    "\n",
    "    # neuron parameters\n",
    "    tau = 20 * ms; theta = 20 * mV; V_r = 10 * mV; tau_rp = 2 * ms\n",
    "\n",
    "    # synapse parameters\n",
    "    J = 0.1 * mV; D = 1.5 * ms\n",
    "\n",
    "    # external stimulus\n",
    "    nu_thr = theta / (J * C_E * tau)\n",
    "\n",
    "    neurons = NeuronGroup(N,\"dv/dt = -v/tau : volt (unless refractory)\",\n",
    "                          threshold=\"v > theta\", reset=\"v = V_r\",\n",
    "                          refractory=tau_rp, method=\"exact\")\n",
    "\n",
    "    exc_neurons = neurons[:N_E]\n",
    "    inh_neurons = neurons[N_E:]\n",
    "    exc_synapses = Synapses(exc_neurons, neurons, on_pre=\"v += J\", delay=D)\n",
    "    exc_synapses.connect(p=epsilon)  # ← changed\n",
    "    inhib_synapses = Synapses(inh_neurons, neurons, on_pre=\"v += -g*J\", delay=D)\n",
    "    inhib_synapses.connect(p=epsilon)  # ← changed\n",
    "\n",
    "    nu_ext = nu_ext_relative * nu_thr\n",
    "    external_poisson_input = PoissonInput(target=neurons, target_var=\"v\",\n",
    "                                          N=C_ext, rate=nu_ext, weight=J)\n",
    "\n",
    "    rate_monitor = PopulationRateMonitor(neurons)\n",
    "    exc_monitor = SpikeMonitor(exc_neurons)\n",
    "    inh_monitor = SpikeMonitor(inh_neurons[:50])  # record 50 inhibitory neurons\n",
    "    state_monitor = StateMonitor(exc_neurons, 'v', record=0)  # record membrane potential of one neuron\n",
    "    run(1*second)\n",
    "    \n",
    "    return {'rate_t': rate_monitor.t, 'rate': rate_monitor.rate,\n",
    "            'exc_spikes_t': exc_monitor.t, 'exc_spikes_i': exc_monitor.i, 'exc_spikes_count': exc_monitor.count, \n",
    "            'inh_spikes_t': inh_monitor.t, 'inh_spikes_i': inh_monitor.i, 'inh_spikes_count': inh_monitor.count,\n",
    "            'state_t': state_monitor.t, 'state_v': state_monitor.v[0]}"
   ]
  },
  {
   "cell_type": "code",
   "execution_count": 7,
   "metadata": {},
   "outputs": [
    {
     "name": "stdout",
     "output_type": "stream",
     "text": [
      "Running\n",
      ".....................\n",
      "Finished\n"
     ]
    }
   ],
   "source": [
    "# Parameters that we are varying\n",
    "g_values = [0, 2, 4]\n",
    "nu_ext_values = np.linspace(0, 5, 7)  # 7 values equally spaced between 0 and 5\n",
    "\n",
    "# Empty matrices of the appropriate size\n",
    "firing_rate = np.empty((len(nu_ext_values), len(g_values)))\n",
    "firing_rate_stddev = np.empty((len(nu_ext_values), len(g_values)))\n",
    "\n",
    "print('Running')\n",
    "for nu_ext_index, nu_ext_value in enumerate(nu_ext_values):\n",
    "    for g_index, g_value in enumerate(g_values):\n",
    "        results = run_sim_random_input_number(g_value, nu_ext_value)\n",
    "        # Store mean firing rate: \n",
    "        firing_rate[nu_ext_index, g_index] = np.mean(results['exc_spikes_count']/0.5) # ←\n",
    "        # Store standard deviation of firing rates\n",
    "        firing_rate_stddev[nu_ext_index, g_index] = np.std(results['exc_spikes_count']/0.5)  # ←\n",
    "        print('.', end='')  # Print a dot to show progress\n",
    "print('\\nFinished')"
   ]
  },
  {
   "cell_type": "code",
   "execution_count": 8,
   "metadata": {},
   "outputs": [
    {
     "data": {
      "image/png": "[encoded data removed]",
      "text/plain": [
       "<Figure size 432x288 with 1 Axes>"
      ]
     },
     "metadata": {
      "needs_background": "light"
     },
     "output_type": "display_data"
    }
   ],
   "source": [
    "for g_index, g_value in enumerate(g_values):\n",
    "    plt.errorbar(nu_ext_values, firing_rate[:, g_index], firing_rate_stddev[:, g_index], label=f'g = {g_value}')\n",
    "    plt.legend()\n",
    "    plt.ylabel('mean firing rate (spikes/second)')\n",
    "    plt.xlabel(r'$\\nu_\\mathrm{ext}$ (input strength)');\n",
    "    #          ^ The \"r\" is necessary so that Python interprets the string as a \"raw string\"\n",
    "    #            Otherwise, e.g. \\nu would be understood as \\n (line break) + u, instead of\n",
    "    #            LaTeX code for the greek character ν"
   ]
  },
  {
   "cell_type": "markdown",
   "metadata": {},
   "source": [
    "**Answer:** Firing rates are higher and more variable"
   ]
  },
  {
   "cell_type": "markdown",
   "metadata": {},
   "source": [
    "## Question: how many inputs does a neuron get under the random connection scheme\n",
    "\n",
    "To answer this question we will create a toy network with random synapses, where the neurons and synapses do not actually do anything:"
   ]
  },
  {
   "cell_type": "code",
   "execution_count": 9,
   "metadata": {},
   "outputs": [],
   "source": [
    "# Dummy code for a network of neurons/synapses that does not do anything\n",
    "neurons = NeuronGroup(10000, '')\n",
    "synapses = Synapses(neurons, neurons)\n",
    "synapses.connect(p=0.1)"
   ]
  },
  {
   "cell_type": "markdown",
   "metadata": {},
   "source": [
    "Print the minimum, maximum, and average number of synaptic inputs that each neuron receives. What is the *expected* average number for a network of $N$ neurons with connection probability $p$?\n",
    "\n",
    "**Hint**:\n",
    "  * The attribute `synapses.N_incoming_post` provides an array with the number of incoming synaptic connections for each neuron"
   ]
  },
  {
   "cell_type": "code",
   "execution_count": 10,
   "metadata": {},
   "outputs": [
    {
     "name": "stdout",
     "output_type": "stream",
     "text": [
      "The minimum number of incoming synapses is 876\n",
      "The maximum number of incoming synapses is 1114\n",
      "The mean number of incoming synapses is 1000.1601\n"
     ]
    }
   ],
   "source": [
    "print(f'The minimum number of incoming synapses is {min(synapses.N_incoming_post)}')\n",
    "print(f'The maximum number of incoming synapses is {max(synapses.N_incoming_post)}')\n",
    "print(f'The mean number of incoming synapses is {np.mean(synapses.N_incoming_post)}')"
   ]
  },
  {
   "cell_type": "markdown",
   "metadata": {},
   "source": [
    "**Answer**: the expected average number is $N \\cdot p$ (i.e. above $10000\\cdot 0.1 = 1000$)"
   ]
  },
  {
   "cell_type": "markdown",
   "metadata": {},
   "source": [
    "Plot a histogram showing the distribution of the number of incoming synapses per neuron:"
   ]
  },
  {
   "cell_type": "code",
   "execution_count": 11,
   "metadata": {},
   "outputs": [
    {
     "data": {
      "image/png": "[encoded data removed]",
      "text/plain": [
       "<Figure size 432x288 with 1 Axes>"
      ]
     },
     "metadata": {
      "needs_background": "light"
     },
     "output_type": "display_data"
    }
   ],
   "source": [
    "plt.hist(synapses.N_incoming_post);\n",
    "plt.xlabel('incoming connections');"
   ]
  }
 ],
 "metadata": {
  "kernelspec": {
   "display_name": "Python 3",
   "language": "python",
   "name": "python3"
  },
  "language_info": {
   "codemirror_mode": {
    "name": "ipython",
    "version": 3
   },
   "file_extension": ".py",
   "mimetype": "text/x-python",
   "name": "python",
   "nbconvert_exporter": "python",
   "pygments_lexer": "ipython3",
   "version": "3.6.7"
  }
 },
 "nbformat": 4,
 "nbformat_minor": 5
}
