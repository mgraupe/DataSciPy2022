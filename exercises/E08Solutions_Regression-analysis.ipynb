{
 "cells": [
  {
   "cell_type": "markdown",
   "metadata": {},
   "source": [
    "# E08 : Regression analysis"
   ]
  },
  {
   "cell_type": "markdown",
   "metadata": {},
   "source": [
    "This weeks homework asks you to perform a **linear regression analysis** on actual data. The aim is investigate whether a linear relationship between the independent and the dependent variable exists. \n",
    "\n",
    "The data-set contains cricket chirps (dependent variable) versus temperature (independent variable). The chrip rate is measured in chirps/sec for the [striped ground cricket](http://songsofinsects.com/crickets/striped-ground-cricket) at a given temperature which is provided in degrees celisus. The data is taken from [The Song of Insects by Dr.G.W. Pierce, Harvard College Press](https://www.hup.harvard.edu/catalog.php?isbn=9780674420663) .\n",
    "\n",
    "The data is given below in the cricketData `numpy` array. Note that the *first column contains the chirps/sec* and the *second column contains the temperature* in celsius. \n"
   ]
  },
  {
   "cell_type": "code",
   "execution_count": 2,
   "metadata": {},
   "outputs": [],
   "source": [
    "import numpy as np\n",
    "import matplotlib.pyplot as plt\n",
    "%matplotlib inline\n",
    "\n",
    "cricketData = np.array(([20.         ,31.44444359],\n",
    " [16.         ,21.99999915],\n",
    " [19.79999924 ,34.05555725],\n",
    " [18.39999962 ,29.05555725],\n",
    " [17.10000038 ,26.99999915],\n",
    " [15.5        ,23.99999831],\n",
    " [14.69999981 ,20.94444275],\n",
    " [17.10000038 ,27.77777778],\n",
    " [15.39999962 ,20.77777863],\n",
    " [16.20000076 ,28.50000169],\n",
    " [15.         ,26.44444359],\n",
    " [17.20000076 ,28.11111026],\n",
    " [16.         ,26.99999915],\n",
    " [17.         ,28.61111111],\n",
    " [14.39999962 ,24.61111281]))"
   ]
  },
  {
   "cell_type": "code",
   "execution_count": 5,
   "metadata": {},
   "outputs": [
    {
     "data": {
      "text/plain": [
       "Text(0, 0.5, 'chirp/sec')"
      ]
     },
     "execution_count": 5,
     "metadata": {},
     "output_type": "execute_result"
    },
    {
     "data": {
      "image/png": "[encoded data removed]",
      "text/plain": [
       "<Figure size 432x288 with 1 Axes>"
      ]
     },
     "metadata": {
      "needs_background": "light"
     },
     "output_type": "display_data"
    }
   ],
   "source": [
    "plt.plot(cricketData[:,1],cricketData[:,0],'o')\n",
    "plt.xlabel('temperature (C)')\n",
    "plt.ylabel('chirp/sec')"
   ]
  },
  {
   "cell_type": "markdown",
   "metadata": {},
   "source": [
    "Here are the specific questions related to this data-set : \n",
    "\n",
    "1. Perform a linear regression analysis on the cricket chirp data-set. Treat the temperature as independent variable and the chirp rate (in chrips/sec) as dependent variable. Remember from the course that the dependent variable is the one which you aim to predict based on changes in the independent variable. Check out the [tutorial T6 - Regression analysis](https://github.com/mgraupe/DataSciPy2020/blob/master/tutorials/T06_Regression-analysis.ipynb) for two ways of how a linear regression analysis can be performed. "
   ]
  },
  {
   "cell_type": "code",
   "execution_count": 4,
   "metadata": {},
   "outputs": [
    {
     "name": "stdout",
     "output_type": "stream",
     "text": [
      "LinregressResult(slope=0.3814649611357892, intercept=6.472457405198028, rvalue=0.8351437870409351, pvalue=0.00010667185495712752, stderr=0.06968020671217373)\n"
     ]
    }
   ],
   "source": [
    "# your code goes here \n",
    "from scipy.stats import linregress\n",
    "\n",
    "linregressCricket = linregress(cricketData[:,1],cricketData[:,0])\n",
    "print(linregressCricket)"
   ]
  },
  {
   "cell_type": "markdown",
   "metadata": {},
   "source": [
    "2. Plot the cricket-data together with the regression line obtained from the linear regression analysis. "
   ]
  },
  {
   "cell_type": "code",
   "execution_count": 26,
   "metadata": {},
   "outputs": [
    {
     "data": {
      "text/plain": [
       "[<matplotlib.lines.Line2D at 0x7f368a52cf60>]"
      ]
     },
     "execution_count": 26,
     "metadata": {},
     "output_type": "execute_result"
    },
    {
     "data": {
      "image/png": "[encoded data removed]",
      "text/plain": [
       "<Figure size 432x288 with 1 Axes>"
      ]
     },
     "metadata": {
      "needs_background": "light"
     },
     "output_type": "display_data"
    }
   ],
   "source": [
    "# your code goes here \n",
    "# the weights of the linear regression are stored in the first and second element of the return from linregress\n",
    "# the first element is the slope, the second one the intercept with y axishttps://matplotlib.org/mpl_toolkits/mplot3d/tutorial.html\n",
    "yPredict = linregressCricket[0]*cricketData[:,1] + linregressCricket[1]\n",
    "\n",
    "plt.plot(cricketData[:,1],yPredict)\n",
    "plt.plot(cricketData[:,1],cricketData[:,0],'o')\n",
    "\n",
    "plt.xlabel('temperature (C)')\n",
    "plt.ylabel('chirp/sec')"
   ]
  },
  {
   "cell_type": "markdown",
   "metadata": {},
   "source": [
    "3. What is the R squared value obtaind through the linear regression analysis on the cricket data? "
   ]
  },
  {
   "cell_type": "code",
   "execution_count": 27,
   "metadata": {},
   "outputs": [
    {
     "name": "stdout",
     "output_type": "stream",
     "text": [
      "The R squared values of the linear regression is :  0.6974651450330747\n"
     ]
    }
   ],
   "source": [
    "# your code goes here\n",
    "print('The R squared values of the linear regression is : ',linregressCricket[2]**2)"
   ]
  },
  {
   "cell_type": "markdown",
   "metadata": {},
   "source": [
    "4. Now perform regression analysis with a 2nd order polynomial. What is the R squared value obtaind with this more flexible function?"
   ]
  },
  {
   "cell_type": "code",
   "execution_count": 59,
   "metadata": {},
   "outputs": [
    {
     "name": "stdout",
     "output_type": "stream",
     "text": [
      "The R squared value for the third order polynomial fit is : 0.7789250279965688\n"
     ]
    }
   ],
   "source": [
    "coeffs2 = np.polyfit(cricketData[:,1],cricketData[:,0],2)\n",
    "yPredict2= np.polyval(coeffs2,cricketData[:,1])\n",
    "\n",
    "SStot = np.sum((cricketData[:,0] - np.mean(cricketData[:,0]))**2)\n",
    "SSres = np.sum((cricketData[:,0] - yPredict2)**2)\n",
    "Rsquared2 = 1 - SSres/SStot\n",
    "print('The R squared value for the third order polynomial fit is :',Rsquared2)"
   ]
  },
  {
   "cell_type": "markdown",
   "metadata": {},
   "source": [
    "5. Using the regression model from the linear- and the second order polynomial regression analysis make a prediction of the cricket behavior for a temperature which is outside the range of measured values. Specifically, which rate of chirps would both regression models predict for  40 °C? Which of the two predictions do you trust more and why?  "
   ]
  },
  {
   "cell_type": "code",
   "execution_count": 60,
   "metadata": {},
   "outputs": [
    {
     "name": "stdout",
     "output_type": "stream",
     "text": [
      "Based on linear regression, one would predict  21.73  chirps/sec at 40  degrees celsius.\n",
      "Based on third order polynomial regression, one would predict  26.51  chirps/sec at 40  degrees celsius.\n"
     ]
    }
   ],
   "source": [
    "# your code goes here\n",
    "temp = 40\n",
    "yPredict40 = linregressCricket[0]*temp + linregressCricket[1]\n",
    "print('Based on linear regression, one would predict ',np.round(yPredict40,2),' chirps/sec at',temp,' degrees celsius.')\n",
    "\n",
    "\n",
    "yPredict3_40 = np.polyval(coeffs2,temp)\n",
    "print('Based on third order polynomial regression, one would predict ',np.round(yPredict3_40,2),' chirps/sec at',temp,' degrees celsius.')\n"
   ]
  },
  {
   "cell_type": "code",
   "execution_count": 61,
   "metadata": {},
   "outputs": [
    {
     "data": {
      "image/png": "[encoded data removed]",
      "text/plain": [
       "<Figure size 1080x360 with 2 Axes>"
      ]
     },
     "metadata": {
      "needs_background": "light"
     },
     "output_type": "display_data"
    }
   ],
   "source": [
    "x = np.linspace(20,40,1000)\n",
    "yPredict = linregressCricket[0]*x + linregressCricket[1]\n",
    "fig = plt.figure(figsize=(15,5))\n",
    "\n",
    "ax0 = fig.add_subplot(1,2,1)\n",
    "ax0.set_title('linear regression')\n",
    "ax0.plot(x,yPredict)\n",
    "ax0.plot(cricketData[:,1],cricketData[:,0],'o')\n",
    "ax0.plot(temp,yPredict40,'o')\n",
    "ax0.set_xlabel('temperature (C)')\n",
    "ax0.set_ylabel('chirp/sec')\n",
    "\n",
    "ax1 = fig.add_subplot(1,2,2)\n",
    "ax1.set_title('2nd order polynomial regression')\n",
    "ax1.plot(x,np.polyval(coeffs3,x))\n",
    "ax1.plot(cricketData[:,1],cricketData[:,0],'o')\n",
    "ax1.plot(temp,np.polyval(coeffs3,temp),'o')\n",
    "ax1.set_xlabel('temperature (C)')\n",
    "ax1.set_ylabel('chirp/sec')\n",
    "\n",
    "plt.show()"
   ]
  },
  {
   "cell_type": "markdown",
   "metadata": {},
   "source": [
    "There are too few data-points to be certain about the shape of the relationship between temperature and chirp/sec. It appears though that the relationship is quadratic rather than linear, which is also supported by the higher R-squared for 2nd order polynomial regression. In this case, the prediction from the quadradic fit might be more realistic. "
   ]
  }
 ],
 "metadata": {
  "kernelspec": {
   "display_name": "Python 3",
   "language": "python",
   "name": "python3"
  },
  "language_info": {
   "codemirror_mode": {
    "name": "ipython",
    "version": 3
   },
   "file_extension": ".py",
   "mimetype": "text/x-python",
   "name": "python",
   "nbconvert_exporter": "python",
   "pygments_lexer": "ipython3",
   "version": "3.6.7"
  }
 },
 "nbformat": 4,
 "nbformat_minor": 2
}
